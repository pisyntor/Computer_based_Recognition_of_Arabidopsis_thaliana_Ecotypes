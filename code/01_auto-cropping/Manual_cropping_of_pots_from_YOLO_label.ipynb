{
 "cells": [
  {
   "cell_type": "code",
   "execution_count": null,
   "metadata": {},
   "outputs": [],
   "source": [
    "import os\n",
    "import os.path\n",
    "import glob\n",
    "import cv2\n",
    "from matplotlib import pyplot as plt"
   ]
  },
  {
   "cell_type": "code",
   "execution_count": null,
   "metadata": {},
   "outputs": [],
   "source": [
    "dird = ''\n",
    "os.chdir(dird)"
   ]
  },
  {
   "cell_type": "code",
   "execution_count": null,
   "metadata": {},
   "outputs": [],
   "source": [
    "dir_trays = ''\n",
    "dirlist = [ item for item in os.listdir(dir_trays) if os.path.isdir(os.path.join(dir_trays, item)) ]\n",
    "print(\"Number of directory: \" + str(len(dirlist)))\n",
    "print(dirlist)"
   ]
  },
  {
   "cell_type": "code",
   "execution_count": null,
   "metadata": {},
   "outputs": [],
   "source": [
    "pot_names = ['A1', 'A2', 'A3', 'A4', 'A5', \n",
    "             'B1', 'B2', 'B3', 'B4', 'B5', \n",
    "             'C1', 'C2', 'C3', 'C4', 'C5', \n",
    "             'D1', 'D2', 'D3', 'D4', 'D5']\n",
    "\n",
    "accession_names = [['Kz-9-09', 'Hs-0-09', 'Ren-11-09', 'Ws-2-09', 'Br-0-09', 'C24-09', 'CIBC-2-09', \n",
    "                        'Jm-0-09', 'Hovdala-2-09', 'Cvi-0-09', 'Ede-1-09', 'MIB-28-09', 'PHW-2-09', 'Or-0-09', \n",
    "                        'Ors-2-09', 'Hsm-09', 'Col-0-09', 'Is-1-09', 'Edr-1-09', 'Ba4-1-09']] \n",
    "                       \n",
    "\n",
    "plant_id = [['1000393','1000394','1000395','1000396','1000397','1000398','1000399',\n",
    "                '10000400','1000401','1000402','1000403','1000404','1000405','1000406','1000407',\n",
    "                '1000408','1000409','1000410','1000411', '1000412']]"
   ]
  },
  {
   "cell_type": "code",
   "execution_count": null,
   "metadata": {
    "scrolled": false
   },
   "outputs": [],
   "source": [
    "# Base directory containing the trays\n",
    "dir_trays = '' \n",
    "\n",
    "# List all directories in the base directory\n",
    "dir_list = [item for item in os.listdir(dir_trays) if os.path.isdir(os.path.join(dir_trays, item))]\n",
    "print(\"Number of directories:\", len(dir_list))\n",
    "print(dir_list)\n",
    "\n",
    "# Select a specific directory by index\n",
    "z = 3\n",
    "print(\"Entering directory:\", dir_list[z])\n",
    "dir_name = os.path.join(dir_trays, dir_list[z])\n",
    "tray = dir_list[z]\n",
    "print(\"Directory path:\", dir_name)\n",
    "\n",
    "# Change current working directory to the selected directory\n",
    "os.chdir(dir_name)\n",
    "print(\"Current working directory:\", os.getcwd())\n",
    "\n",
    "# List all PNG files in the directory\n",
    "file_list = [os.path.basename(item) for item in glob.glob(os.path.join(dir_name, '*.png'), recursive=True)]\n",
    "\n",
    "# Create output directory for the final dataset if it doesn't exist\n",
    "output_dir = os.path.join(\"../../final_dataset\", tray)\n",
    "if not os.path.exists(output_dir):\n",
    "    os.makedirs(output_dir)\n",
    "\n",
    "# Iterate through each file in the list\n",
    "for i, file_name in enumerate(file_list):\n",
    "    print(i, file_name)\n",
    "    filename_no_ext = os.path.splitext(file_name)[0]\n",
    "    label_filename = os.path.join(dir_name, f\"{filename_no_ext}.txt\")\n",
    "    \n",
    "    # Read the label file\n",
    "    with open(label_filename) as f:\n",
    "        lines = f.readlines()\n",
    "    \n",
    "    # Read and convert the image to RGB\n",
    "    img_bgr = cv2.imread(file_name)\n",
    "    img_rgb = cv2.cvtColor(img_bgr, cv2.COLOR_BGR2RGB)\n",
    "    dh, dw, _ = img_rgb.shape\n",
    "    print(file_name, \"Dimensions (h, w):\", dh, dw)\n",
    "\n",
    "    # Iterate through each bounding box in the label file\n",
    "    for j in range(20):\n",
    "        box = lines[j].strip().split()\n",
    "        class_id, x_center, y_center, w, h = map(float, box)\n",
    "        print(pot_names[j], x_center, y_center, w, h)\n",
    "\n",
    "        # Calculate bounding box coordinates\n",
    "        x_center = int(x_center * dw)\n",
    "        y_center = int(y_center * dh)\n",
    "        w = int(w * dw)\n",
    "        h = int(h * dh)\n",
    "        x = x_center - w // 2\n",
    "        y = y_center - h // 2\n",
    "        print(\"Bounding box:\", x_center, y_center, w, h)\n",
    "        \n",
    "        # Apply specific cropping adjustments based on pot name\n",
    "        if pot_names[j] == 'A1':\n",
    "            img_crop = img_rgb[y-4:y+h+12, x-4:x+w+5]\n",
    "        elif pot_names[j] == 'B1':\n",
    "            img_crop = img_rgb[y+10:y+h+5, x-4:x+w+5]\n",
    "        elif pot_names[j] == 'B5':\n",
    "            img_crop = img_rgb[y-12:y+h+5, x+55:x+w+35]\n",
    "        elif pot_names[j] == 'D3':\n",
    "            img_crop = img_rgb[y+21:y+h+15, x-4:x+w+5]\n",
    "        else:\n",
    "            img_crop = img_rgb[y-12:y+h+5, x-4:x+w+5]\n",
    "\n",
    "        # Create directory for the specific pot if it doesn't exist\n",
    "        pot_dir = os.path.join('../../final_dataset', tray, f'pot_{pot_names[j]}')\n",
    "        if not os.path.exists(pot_dir):\n",
    "            os.makedirs(pot_dir)\n",
    "\n",
    "        # Save the cropped image\n",
    "        output_filename = os.path.join(pot_dir, f\"{plant_id[0][j]}_{filename_no_ext}_pot_{pot_names[j]}_{accession_names[0][j]}.png\")\n",
    "        cv2.imwrite(output_filename, cv2.cvtColor(img_crop, cv2.COLOR_RGB2BGR))\n",
    "        print(f\"Saved cropped image to {output_filename}\")\n"
   ]
  }
 ],
 "metadata": {
  "kernelspec": {
   "display_name": "Python 3 (ipykernel)",
   "language": "python",
   "name": "python3"
  },
  "language_info": {
   "codemirror_mode": {
    "name": "ipython",
    "version": 3
   },
   "file_extension": ".py",
   "mimetype": "text/x-python",
   "name": "python",
   "nbconvert_exporter": "python",
   "pygments_lexer": "ipython3",
   "version": "3.9.13"
  }
 },
 "nbformat": 4,
 "nbformat_minor": 4
}
