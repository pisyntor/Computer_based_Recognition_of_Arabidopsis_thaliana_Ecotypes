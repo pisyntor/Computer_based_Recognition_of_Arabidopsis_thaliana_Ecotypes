{
 "cells": [
  {
   "cell_type": "code",
   "execution_count": null,
   "id": "984503d2-c624-45d2-8486-452e91b14941",
   "metadata": {},
   "outputs": [],
   "source": [
    "from pathlib import Path\n",
    "import numpy as np\n",
    "import pandas as pd\n",
    "import matplotlib.pyplot as plt\n",
    "import seaborn as sns"
   ]
  },
  {
   "cell_type": "markdown",
   "id": "51103963-64f5-4acc-baba-a3c0f182d6b1",
   "metadata": {},
   "source": [
    "# Helper functions"
   ]
  },
  {
   "cell_type": "code",
   "execution_count": null,
   "id": "b936ebb2-a6f7-4bc6-9575-c43dcf6ac779",
   "metadata": {},
   "outputs": [],
   "source": [
    "def read_convert_csv(csv_path: str) -> pd.DataFrame:\n",
    "    \"\"\"\n",
    "    Reads a CSV file, converts individual feature columns back into original feature columns and returns the DataFrame.\n",
    "    \"\"\"\n",
    "    # Read the CSV file\n",
    "    df = pd.read_csv(csv_path)\n",
    "\n",
    "    # Define column names for each original feature\n",
    "    hog_cols = [f'hog_{idx}' for idx in range(256)]\n",
    "    log_cols = [f'log_{idx}' for idx in range(256)]\n",
    "    vgg_cols = [f'vgg_{idx}' for idx in range(256)]\n",
    "    resnet_cols = [f'resnet_{idx}' for idx in range(256)]\n",
    "\n",
    "    # Combine individual feature columns into single feature columns\n",
    "    df['hog'] = [feat for feat in df[hog_cols].to_numpy()]\n",
    "    df['log'] = [feat for feat in df[log_cols].to_numpy()]\n",
    "    df['vgg'] = [feat for feat in df[vgg_cols].to_numpy()]\n",
    "    df['resnet'] = [feat for feat in df[resnet_cols].to_numpy()]\n",
    "\n",
    "    # Drop the individual feature columns\n",
    "    df = df.drop(hog_cols + log_cols + vgg_cols + resnet_cols, axis=1)\n",
    "\n",
    "    return df"
   ]
  },
  {
   "cell_type": "markdown",
   "id": "dea58244-6ef1-466f-986b-61bd301c5416",
   "metadata": {},
   "source": [
    "## Load data"
   ]
  },
  {
   "cell_type": "code",
   "execution_count": null,
   "id": "1bb5a461-5d77-490b-855b-61500b3fa5c0",
   "metadata": {},
   "outputs": [],
   "source": [
    "csv_path = 'all_features.csv'\n",
    "\n",
    "df = read_convert_csv(csv_path)\n",
    "df.head(2) # Display the first two entries"
   ]
  },
  {
   "cell_type": "code",
   "execution_count": null,
   "id": "c0a47caf-7013-45db-b46d-c8090160fb50",
   "metadata": {},
   "outputs": [],
   "source": [
    "# Select a feature to visualize. Possible feauteres are: \n",
    "# color_modes, rank_colors, spectral, sift, pixel_entropy, hog_entropy, log_entropy, vgg_entropy, resnet_entropy\n",
    "FEATURE = 'spectral'\n",
    "\n",
    "# Select a hierarcical level for visualization. Possible options are:\n",
    "# replicate, group, dataset\n",
    "LEVEL = 'group'"
   ]
  },
  {
   "cell_type": "code",
   "execution_count": null,
   "id": "910c50cb-28dc-481e-b0d8-669561e8c1f4",
   "metadata": {},
   "outputs": [],
   "source": [
    "df[df['dataset'] == 'accessions_dataset2']['group'].unique()"
   ]
  },
  {
   "cell_type": "code",
   "execution_count": null,
   "id": "446cb833-b6dc-4719-a2c8-7f6adeee3d34",
   "metadata": {},
   "outputs": [],
   "source": [
    "df[df['dataset'] == 'accessions']['group'].unique()"
   ]
  },
  {
   "cell_type": "code",
   "execution_count": null,
   "id": "541c74f5-6310-4312-a2d1-b5686fbef656",
   "metadata": {},
   "outputs": [],
   "source": [
    "FEATURE = 'spectral'\n",
    "LEVEL = 'replicate'\n",
    "\n",
    "\n",
    "fig, ax = plt.subplots(nrows=1, ncols=1, figsize=(10, 6), dpi=300)\n",
    "sns.histplot(df, x=FEATURE, hue=LEVEL, element=\"step\", stat=\"density\", common_norm=False, kde=True)\n",
    "plt.title(f'Distribution of {FEATURE} by {LEVEL}')\n",
    "plt.xlabel(f'{FEATURE} {\"(Normalized 0-100)\"}')\n",
    "plt.ylabel('Density')\n",
    "plt.legend(title=LEVEL)\n",
    "plt.tight_layout()\n",
    "plt.show()"
   ]
  }
 ],
 "metadata": {
  "kernelspec": {
   "display_name": "Python 3 (ipykernel)",
   "language": "python",
   "name": "python3"
  },
  "language_info": {
   "codemirror_mode": {
    "name": "ipython",
    "version": 3
   },
   "file_extension": ".py",
   "mimetype": "text/x-python",
   "name": "python",
   "nbconvert_exporter": "python",
   "pygments_lexer": "ipython3",
   "version": "3.11.0"
  }
 },
 "nbformat": 4,
 "nbformat_minor": 5
}
