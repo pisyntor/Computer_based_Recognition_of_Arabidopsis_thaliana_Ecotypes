{
 "cells": [
  {
   "cell_type": "code",
   "execution_count": null,
   "metadata": {},
   "outputs": [],
   "source": [
    "from pathlib import Path\n",
    "import datetime\n",
    "import pandas as pd\n",
    "import matplotlib.pyplot as plt\n",
    "import seaborn as sns\n",
    "import plotly.express as px\n"
   ]
  },
  {
   "cell_type": "code",
   "execution_count": null,
   "metadata": {},
   "outputs": [],
   "source": [
    "DATA_PATH = '../01_extracted_features/internal_datasets/all_features_truncated.csv'\n",
    "data_path = Path(DATA_PATH)"
   ]
  },
  {
   "cell_type": "code",
   "execution_count": null,
   "metadata": {},
   "outputs": [],
   "source": [
    "def save_figure(fig, path, dpi=300):\n",
    "    \"\"\"\n",
    "    Save a figure to a file.\n",
    "    \"\"\"\n",
    "    # Ensure parent directory exists or create it\n",
    "    path.parent.mkdir(parents=True, exist_ok=True)\n",
    "    # Save the figure\n",
    "    fig.savefig(path, dpi=dpi)\n",
    "\n",
    "\n",
    "# Load data from the CSV file\n",
    "data_path = Path(DATA_PATH)\n",
    "data = pd.read_csv(data_path)\n",
    "\n",
    "# Extract file names without extensions from the 'filename' column\n",
    "filenames = [name.split('-')[0].split('_')[1:-1] for name in data['filename'].values]\n",
    "\n",
    "# Convert extracted filenames to datetime objects, considering only date components\n",
    "datetimes = [\n",
    "    datetime.datetime(\n",
    "        int(name[0]), int(name[1]), int(name[2]), 0, 0, 0\n",
    "    ) for name in filenames\n",
    "]\n",
    "\n",
    "# Add the 'datetimes' column to the DataFrame and sort it by datetime\n",
    "data['datetimes'] = datetimes\n",
    "data = data.sort_values(by='datetimes').reset_index(drop=True)\n",
    "\n",
    "# Convert datetime objects to string format for better readability\n",
    "data['datetimes_str'] = data['datetimes'].apply(lambda x: str(x))"
   ]
  },
  {
   "cell_type": "code",
   "execution_count": null,
   "metadata": {},
   "outputs": [],
   "source": [
    "def plot_timeseries_sns(data, feature, level=\"replicate\"):\n",
    "    \"\"\"Plot a timeseries of a feature.\"\"\"\n",
    "    fig, ax = plt.subplots(figsize=(20, 10), dpi=300)\n",
    "    sns.lineplot(data=data, x='datetimes_str', y=feature, hue=level)\n",
    "    xticklabels = data['datetimes_str'].unique()\n",
    "    xticklabels = [x.split(' ')[0] for x in xticklabels]\n",
    "    ax.xaxis.set_ticks(range(len(xticklabels)))\n",
    "    ax.set_xticklabels(xticklabels, rotation=45)\n",
    "    \n",
    "    ax.set_xlabel('Date', fontsize=14)\n",
    "    ax.set_ylabel(feature, fontsize=14)\n",
    "    ax.set_title(f\"{feature} over time\", fontsize=18, fontweight='bold')\n",
    "\n",
    "    ax.grid()\n",
    "    plt.tight_layout()\n",
    "    return fig"
   ]
  },
  {
   "cell_type": "code",
   "execution_count": null,
   "metadata": {},
   "outputs": [],
   "source": [
    "data['dataset'].unique()"
   ]
  },
  {
   "cell_type": "code",
   "execution_count": null,
   "metadata": {},
   "outputs": [],
   "source": [
    "dataset = 'accessions_dataset1'\n",
    "data_dataset = data[data['dataset'] == dataset]\n",
    "\n",
    "data_dataset['class'].unique()"
   ]
  },
  {
   "cell_type": "code",
   "execution_count": null,
   "metadata": {},
   "outputs": [],
   "source": [
    "class_ = 'Ws-2'\n",
    "\n",
    "data_class = data_dataset[data_dataset['class'] == class_]\n",
    "list(data_class.columns[4:])"
   ]
  },
  {
   "cell_type": "code",
   "execution_count": null,
   "metadata": {},
   "outputs": [],
   "source": [
    "feature = 'HoG'\n",
    "\n",
    "sns_fig = plot_timeseries_sns(data_class, feature, level=\"replicate\")"
   ]
  },
  {
   "cell_type": "code",
   "execution_count": null,
   "metadata": {},
   "outputs": [],
   "source": [
    "\n",
    "px.line(data_class, x='datetimes_str', y='HoG', color='replicate')"
   ]
  }
 ],
 "metadata": {
  "kernelspec": {
   "display_name": "plant",
   "language": "python",
   "name": "python3"
  },
  "language_info": {
   "codemirror_mode": {
    "name": "ipython",
    "version": 3
   },
   "file_extension": ".py",
   "mimetype": "text/x-python",
   "name": "python",
   "nbconvert_exporter": "python",
   "pygments_lexer": "ipython3",
   "version": "3.11.5"
  },
  "orig_nbformat": 4
 },
 "nbformat": 4,
 "nbformat_minor": 2
}
