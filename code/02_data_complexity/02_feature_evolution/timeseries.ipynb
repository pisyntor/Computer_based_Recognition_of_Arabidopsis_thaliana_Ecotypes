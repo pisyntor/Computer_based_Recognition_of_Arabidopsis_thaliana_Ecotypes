{
 "cells": [
  {
   "cell_type": "code",
   "execution_count": null,
   "metadata": {},
   "outputs": [],
   "source": [
    "from pathlib import Path\n",
    "import datetime\n",
    "import pandas as pd\n",
    "import matplotlib.pyplot as plt\n",
    "import seaborn as sns"
   ]
  },
  {
   "cell_type": "code",
   "execution_count": null,
   "metadata": {},
   "outputs": [],
   "source": [
    "DATA_PATH = '../03_data_complexity/01_extracted_features/internal_datasets'\n",
    "data_path = Path(DATA_PATH)"
   ]
  },
  {
   "cell_type": "code",
   "execution_count": null,
   "metadata": {},
   "outputs": [],
   "source": [
    "# Read the CSV file into a DataFrame\n",
    "df = pd.read_csv(data_path)\n",
    "\n",
    "# Extract file names without extensions from the 'filename' column\n",
    "filenames = [name.split('-')[0].split('_')[1:-1] for name in df['filename'].values]\n",
    "\n",
    "# Convert extracted filenames to datetime objects, considering only date components\n",
    "datetimes = [\n",
    "    datetime.datetime(\n",
    "        int(name[0]), int(name[1]), int(name[2]), 0, 0, 0\n",
    "    ) for name in filenames\n",
    "]\n",
    "\n",
    "# Add the datetime column to the DataFrame and sort it by datetime\n",
    "df['datetimes'] = datetimes\n",
    "df = df.sort_values(by='datetimes').reset_index(drop=True)\n",
    "\n",
    "# Convert datetime objects to string format for better readability\n",
    "df['datetimes_str'] = df['datetimes'].apply(lambda x: str(x))\n",
    "\n",
    "# Display the first few rows of the DataFrame\n",
    "df.head()"
   ]
  },
  {
   "cell_type": "code",
   "execution_count": null,
   "metadata": {},
   "outputs": [],
   "source": [
    "df['class'].unique()"
   ]
  },
  {
   "cell_type": "code",
   "execution_count": null,
   "metadata": {},
   "outputs": [],
   "source": [
    "dataset_ = 'accessions_dataset1'\n",
    "class_ = 'TOU-I-17'\n",
    "\n",
    "\n",
    "data = df[(df['class']==class_) & (df['dataset']==dataset_)].copy().reset_index(drop=True)\n",
    "\n",
    "data.head()"
   ]
  },
  {
   "cell_type": "code",
   "execution_count": null,
   "metadata": {},
   "outputs": [],
   "source": [
    "data['replicate'].nunique()"
   ]
  },
  {
   "cell_type": "code",
   "execution_count": null,
   "metadata": {},
   "outputs": [],
   "source": [
    "rep_name = 'rep_01'\n",
    "data_rep = data[data['replicate']==rep_name]\n",
    "data_rep"
   ]
  },
  {
   "cell_type": "code",
   "execution_count": null,
   "metadata": {},
   "outputs": [],
   "source": [
    "fig, ax = plt.subplots(figsize=(20, 10), dpi=300)\n",
    "sns.lineplot(data=data, x='datetimes_str', y='Pixel entropy', hue='replicate')\n",
    "\n",
    "xticklabels = data['datetimes_str'].unique()\n",
    "xticklabels = [x.split(' ')[0] for x in xticklabels]\n",
    "ax.set_xticklabels(xticklabels, rotation=45)\n",
    "\n",
    "ax.grid()"
   ]
  },
  {
   "cell_type": "code",
   "execution_count": null,
   "metadata": {},
   "outputs": [],
   "source": [
    "dataset_ = 'accessions_dataset1'\n",
    "class_ = 'TOU-I-17'\n",
    "\n",
    "\n",
    "data = df[(df['class']==class_) & (df['dataset']==dataset_)].copy().reset_index(drop=True)\n",
    "\n",
    "data.head()"
   ]
  },
  {
   "cell_type": "code",
   "execution_count": null,
   "metadata": {},
   "outputs": [],
   "source": [
    "feature = 'Pixel entropy'\n",
    "\n",
    "xticklabels = data['datetimes_str'].unique()\n",
    "xticklabels = [x.split(' ')[0] for x in xticklabels]\n",
    "\n",
    "fig, ax = plt.subplots(figsize=(20, 10), dpi=300)\n",
    "sns.lineplot(data=data, x='datetimes_str', y=feature, ax=ax, errorbar=('sd', 1))\n",
    "ax.set_xticklabels(xticklabels, rotation=45)\n",
    "ax.grid()"
   ]
  }
 ],
 "metadata": {
  "kernelspec": {
   "display_name": "plant",
   "language": "python",
   "name": "python3"
  },
  "language_info": {
   "codemirror_mode": {
    "name": "ipython",
    "version": 3
   },
   "file_extension": ".py",
   "mimetype": "text/x-python",
   "name": "python",
   "nbconvert_exporter": "python",
   "pygments_lexer": "ipython3",
   "version": "3.11.5"
  },
  "orig_nbformat": 4
 },
 "nbformat": 4,
 "nbformat_minor": 2
}
