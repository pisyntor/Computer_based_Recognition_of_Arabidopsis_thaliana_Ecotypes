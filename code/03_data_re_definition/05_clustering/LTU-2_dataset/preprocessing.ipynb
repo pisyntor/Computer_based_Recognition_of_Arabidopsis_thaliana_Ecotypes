{
 "cells": [
  {
   "cell_type": "code",
   "execution_count": null,
   "id": "83f1ec21",
   "metadata": {},
   "outputs": [],
   "source": [
    "import pandas as pd\n",
    "import numpy as np\n",
    "from sklearn.preprocessing import KBinsDiscretizer\n",
    "import os\n",
    "import re\n",
    "import itertools"
   ]
  },
  {
   "cell_type": "code",
   "execution_count": null,
   "id": "f6a22945",
   "metadata": {},
   "outputs": [],
   "source": [
    "os.chdir('')"
   ]
  },
  {
   "cell_type": "code",
   "execution_count": null,
   "id": "b72809a6",
   "metadata": {},
   "outputs": [],
   "source": [
    "for file in os.listdir(\"./\"):\n",
    "  if not os.path.isfile(f\"./{file}\"):\n",
    "    path = os.path.join(f\"./{file}\", os.listdir(f\"./{file}\")[0])\n",
    "    print(path)"
   ]
  },
  {
   "cell_type": "code",
   "execution_count": null,
   "id": "3f68e1e3",
   "metadata": {},
   "outputs": [],
   "source": [
    "#Matrix\n",
    "matrix = np.zeros(32).reshape(8,4)\n",
    "dataframe = pd.DataFrame(matrix, columns = [\"Petiole Length\", \"Leaf Margin\", \"Leaf Shape\", \"Number of  Leafs\"])\n",
    "index = []\n",
    "row = 0\n",
    "#Preprocessing\n",
    "for file in os.listdir(os.getcwd()):\n",
    "  if not os.path.isfile(os.path.join(os.getcwd(), file)):\n",
    "    os.chdir(os.path.join(os.getcwd(), file))\n",
    "    for f in os.listdir(os.getcwd()):\n",
    "        x = re.search(\"xlsx$\", f)\n",
    "        if  x != None:\n",
    "            data = pd.read_excel(f)\n",
    "            accesion = data[\"Accesion\"][0]\n",
    "            print(accesion)\n",
    "            index.append(accesion)\n",
    "            data.drop([\"Replicate\",\"Accesion\"], axis = 1, inplace = True)\n",
    "            #Discretizing\n",
    "            discretizer = KBinsDiscretizer(n_bins=3, encode =\"ordinal\", strategy='uniform')\n",
    "            data[\"Number of  Leafs\"] = discretizer.fit_transform(data[\"Number of  Leafs\"].values.reshape(-1,1)).astype(int)\n",
    "            data.replace(0, \"Low\", inplace = True)\n",
    "            data.replace(1, \"Medium\", inplace = True)\n",
    "            data.replace(2, \"High\", inplace = True)\n",
    "            #Fill Dataframe\n",
    "            dataframe.iloc[row,:] = data.mode(axis = 0).values.tolist()[0]\n",
    "            row += 1\n",
    "    os.chdir(\"../\")"
   ]
  },
  {
   "cell_type": "code",
   "execution_count": null,
   "id": "3effb280",
   "metadata": {},
   "outputs": [],
   "source": [
    "#reindex\n",
    "dataframe_values = dataframe.values\n",
    "dataframe_columns = dataframe.columns.tolist() \n",
    "dataframe = pd.DataFrame(dataframe_values, index = index ,columns=dataframe_columns)\n",
    "dataframe"
   ]
  },
  {
   "cell_type": "code",
   "execution_count": null,
   "id": "bd73f0bd",
   "metadata": {},
   "outputs": [],
   "source": [
    "pd.DataFrame.to_csv(dataframe, \"traits_matrix.csv\")"
   ]
  },
  {
   "cell_type": "code",
   "execution_count": null,
   "id": "9d6ad10b",
   "metadata": {},
   "outputs": [],
   "source": [
    "#Similarity function matrix\n",
    "\n",
    "def sim_matriz(data):\n",
    "  \"\"\"Creates similarity matrix\"\"\"\n",
    "  matrix = np.zeros(data.shape[0]**2).reshape(data.shape[0], data.shape[0])\n",
    "  for f in np.arange(data.shape[0]):\n",
    "    for f2 in np.arange(data.shape[0]):\n",
    "      in_common = 0\n",
    "      for col in np.arange(data.shape[1]):\n",
    "        if data.iloc[f, col] == data.iloc[f2, col]:\n",
    "          in_common += 1\n",
    "        else:\n",
    "          continue \n",
    "      matrix[f, f2] = in_common / data.shape[1]\n",
    "  return matrix"
   ]
  },
  {
   "cell_type": "code",
   "execution_count": null,
   "id": "23e09800",
   "metadata": {},
   "outputs": [],
   "source": [
    "similarity_frame = pd.DataFrame(sim_matriz(dataframe), index = dataframe.index.tolist(), columns = dataframe.index.tolist())\n",
    "similarity_frame"
   ]
  },
  {
   "cell_type": "code",
   "execution_count": null,
   "id": "f727eb47",
   "metadata": {},
   "outputs": [],
   "source": [
    "pd.DataFrame.to_csv(similarity_frame, \"similarity_matrix.csv\")"
   ]
  },
  {
   "cell_type": "code",
   "execution_count": null,
   "id": "2c888976",
   "metadata": {},
   "outputs": [],
   "source": [
    "n_row = 0\n",
    "sim_4 = pd.DataFrame(np.zeros(140).reshape(70,2), columns = [\"Combination\", \"Dissimilarity\"])\n",
    "for comb in itertools.combinations(similarity_frame.columns.tolist(), 4):\n",
    "    similarity = 0\n",
    "    for comb_ in itertools.combinations(comb, 2):\n",
    "        sim = similarity_frame.loc[comb_[0], comb_[1]]\n",
    "        similarity += sim\n",
    "    row = [comb, (1-(similarity / 6))]\n",
    "    sim_4.iloc[n_row, :] = row\n",
    "    n_row += 1\n",
    "sim_4 = sim_4.sort_values(by=['Dissimilarity'], ascending=False)\n",
    "pd.DataFrame.to_csv(sim_4, \"dissimilarity_4.csv\")"
   ]
  },
  {
   "cell_type": "code",
   "execution_count": null,
   "id": "27fa2ce8",
   "metadata": {},
   "outputs": [],
   "source": [
    "n_row = 0\n",
    "sim_5 = pd.DataFrame(np.zeros(112).reshape(56,2), columns = [\"Combination\", \"Dissimilarity\"])\n",
    "for comb in itertools.combinations(similarity_frame.columns.tolist(), 5):\n",
    "    similarity = 0\n",
    "    for comb_ in itertools.combinations(comb, 2):\n",
    "        sim = similarity_frame.loc[comb_[0], comb_[1]]\n",
    "        similarity += sim\n",
    "    row = [comb,(1-(similarity / 10))]\n",
    "    sim_5.iloc[n_row, :] = row\n",
    "    n_row += 1\n",
    "sim_5 = sim_5.sort_values(by=['Dissimilarity'], ascending=False)\n",
    "pd.DataFrame.to_csv(sim_5, \"dissimilarity_5.csv\")"
   ]
  }
 ],
 "metadata": {
  "kernelspec": {
   "display_name": "Python 3 (ipykernel)",
   "language": "python",
   "name": "python3"
  },
  "language_info": {
   "codemirror_mode": {
    "name": "ipython",
    "version": 3
   },
   "file_extension": ".py",
   "mimetype": "text/x-python",
   "name": "python",
   "nbconvert_exporter": "python",
   "pygments_lexer": "ipython3",
   "version": "3.10.6"
  }
 },
 "nbformat": 4,
 "nbformat_minor": 5
}
